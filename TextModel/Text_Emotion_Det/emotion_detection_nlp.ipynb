{
 "cells": [
  {
   "cell_type": "code",
   "execution_count": 1,
   "id": "f0814628-3d83-4fd6-a511-2eccf79f9f1e",
   "metadata": {},
   "outputs": [],
   "source": [
    "# Load EDA Pkgs\n",
    "import pandas as pd\n",
    "import numpy as np"
   ]
  },
  {
   "cell_type": "code",
   "execution_count": 2,
   "id": "ea0d580d-c31c-44b7-b09b-10225857eebe",
   "metadata": {},
   "outputs": [],
   "source": [
    "# Load Data Viz Pkgs\n",
    "import seaborn as sns"
   ]
  },
  {
   "cell_type": "code",
   "execution_count": 3,
   "id": "91eccfbf-d4d0-4e16-b0f7-2d7941efddb0",
   "metadata": {},
   "outputs": [],
   "source": [
    "# Load Text Cleaning Pkgs\n",
    "import neattext.functions as nfx"
   ]
  },
  {
   "cell_type": "code",
   "execution_count": 4,
   "id": "21e7e868-35fb-483f-82b6-842a29ef1342",
   "metadata": {},
   "outputs": [],
   "source": [
    "# Load ML Pkgs\n",
    "# Estimators\n",
    "from sklearn.linear_model import LogisticRegression\n",
    "from sklearn.naive_bayes import MultinomialNB\n",
    "\n",
    "# Transformers\n",
    "from sklearn.feature_extraction.text import CountVectorizer\n",
    "from sklearn.model_selection import train_test_split\n",
    "from sklearn.metrics import accuracy_score,classification_report,confusion_matrix"
   ]
  },
  {
   "cell_type": "code",
   "execution_count": 5,
   "id": "b209e004-ab77-4407-8689-b4318944d47f",
   "metadata": {},
   "outputs": [],
   "source": [
    "# Load Dataset\n",
    "df = pd.read_csv(\"dataset.csv\", sep=\",\", encoding='utf-8')"
   ]
  },
  {
   "cell_type": "code",
   "execution_count": 6,
   "id": "fea2d4c0-3bdd-405e-ab69-507ceaac36cb",
   "metadata": {},
   "outputs": [
    {
     "data": {
      "text/html": [
       "<div>\n",
       "<style scoped>\n",
       "    .dataframe tbody tr th:only-of-type {\n",
       "        vertical-align: middle;\n",
       "    }\n",
       "\n",
       "    .dataframe tbody tr th {\n",
       "        vertical-align: top;\n",
       "    }\n",
       "\n",
       "    .dataframe thead th {\n",
       "        text-align: right;\n",
       "    }\n",
       "</style>\n",
       "<table border=\"1\" class=\"dataframe\">\n",
       "  <thead>\n",
       "    <tr style=\"text-align: right;\">\n",
       "      <th></th>\n",
       "      <th>Emotion</th>\n",
       "      <th>Paragraph</th>\n",
       "      <th>Title</th>\n",
       "    </tr>\n",
       "  </thead>\n",
       "  <tbody>\n",
       "    <tr>\n",
       "      <th>0</th>\n",
       "      <td>Surprised</td>\n",
       "      <td>\"Discovering recent advancements in medicine a...</td>\n",
       "      <td>\"Breakthrough in Cancer Research\"</td>\n",
       "    </tr>\n",
       "    <tr>\n",
       "      <th>1</th>\n",
       "      <td>Surprised</td>\n",
       "      <td>\"Came across an article about an unexpected sc...</td>\n",
       "      <td>\"New Brain Research Shocks Scientists\"</td>\n",
       "    </tr>\n",
       "    <tr>\n",
       "      <th>2</th>\n",
       "      <td>Surprised</td>\n",
       "      <td>\"Found an article on surprising benefits of me...</td>\n",
       "      <td>\"Unexpected Benefits of Meditation\"</td>\n",
       "    </tr>\n",
       "    <tr>\n",
       "      <th>3</th>\n",
       "      <td>Surprised</td>\n",
       "      <td>\"Just read an article about a newly discovered...</td>\n",
       "      <td>\"New Species Discovery Shocks Scientists\"</td>\n",
       "    </tr>\n",
       "    <tr>\n",
       "      <th>4</th>\n",
       "      <td>Surprised</td>\n",
       "      <td>\"I didn�t expect that at all! It came out of n...</td>\n",
       "      <td>Unexpected News</td>\n",
       "    </tr>\n",
       "  </tbody>\n",
       "</table>\n",
       "</div>"
      ],
      "text/plain": [
       "     Emotion                                          Paragraph  \\\n",
       "0  Surprised  \"Discovering recent advancements in medicine a...   \n",
       "1  Surprised  \"Came across an article about an unexpected sc...   \n",
       "2  Surprised  \"Found an article on surprising benefits of me...   \n",
       "3  Surprised  \"Just read an article about a newly discovered...   \n",
       "4  Surprised  \"I didn�t expect that at all! It came out of n...   \n",
       "\n",
       "                                         Title  \n",
       "0           \"Breakthrough in Cancer Research\"   \n",
       "1      \"New Brain Research Shocks Scientists\"   \n",
       "2         \"Unexpected Benefits of Meditation\"   \n",
       "3   \"New Species Discovery Shocks Scientists\"   \n",
       "4                             Unexpected News   "
      ]
     },
     "execution_count": 6,
     "metadata": {},
     "output_type": "execute_result"
    }
   ],
   "source": [
    "df.head()"
   ]
  },
  {
   "cell_type": "code",
   "execution_count": 7,
   "id": "430565a3-cf3b-4c6f-afa5-bafd084f5676",
   "metadata": {},
   "outputs": [
    {
     "data": {
      "text/plain": [
       "Fear          89\n",
       "Neutral       88\n",
       "Happy         80\n",
       "Manic         75\n",
       "Depressive    75\n",
       "Sad           65\n",
       "Surprised     47\n",
       "Shocked       36\n",
       "Name: Emotion, dtype: int64"
      ]
     },
     "execution_count": 7,
     "metadata": {},
     "output_type": "execute_result"
    }
   ],
   "source": [
    "# Value Counts\n",
    "df['Emotion'].value_counts()"
   ]
  },
  {
   "cell_type": "code",
   "execution_count": 8,
   "id": "aee84a4c-8e0a-4209-94af-495493707be1",
   "metadata": {},
   "outputs": [
    {
     "data": {
      "text/html": [
       "<div>\n",
       "<style scoped>\n",
       "    .dataframe tbody tr th:only-of-type {\n",
       "        vertical-align: middle;\n",
       "    }\n",
       "\n",
       "    .dataframe tbody tr th {\n",
       "        vertical-align: top;\n",
       "    }\n",
       "\n",
       "    .dataframe thead th {\n",
       "        text-align: right;\n",
       "    }\n",
       "</style>\n",
       "<table border=\"1\" class=\"dataframe\">\n",
       "  <thead>\n",
       "    <tr style=\"text-align: right;\">\n",
       "      <th></th>\n",
       "      <th>Emotion</th>\n",
       "      <th>Paragraph</th>\n",
       "      <th>Title</th>\n",
       "    </tr>\n",
       "  </thead>\n",
       "  <tbody>\n",
       "    <tr>\n",
       "      <th>0</th>\n",
       "      <td>Surprised</td>\n",
       "      <td>\"Discovering recent advancements in medicine a...</td>\n",
       "      <td>\"Breakthrough in Cancer Research\"</td>\n",
       "    </tr>\n",
       "    <tr>\n",
       "      <th>1</th>\n",
       "      <td>Surprised</td>\n",
       "      <td>\"Came across an article about an unexpected sc...</td>\n",
       "      <td>\"New Brain Research Shocks Scientists\"</td>\n",
       "    </tr>\n",
       "    <tr>\n",
       "      <th>2</th>\n",
       "      <td>Surprised</td>\n",
       "      <td>\"Found an article on surprising benefits of me...</td>\n",
       "      <td>\"Unexpected Benefits of Meditation\"</td>\n",
       "    </tr>\n",
       "    <tr>\n",
       "      <th>3</th>\n",
       "      <td>Surprised</td>\n",
       "      <td>\"Just read an article about a newly discovered...</td>\n",
       "      <td>\"New Species Discovery Shocks Scientists\"</td>\n",
       "    </tr>\n",
       "    <tr>\n",
       "      <th>4</th>\n",
       "      <td>Surprised</td>\n",
       "      <td>\"I didn�t expect that at all! It came out of n...</td>\n",
       "      <td>Unexpected News</td>\n",
       "    </tr>\n",
       "  </tbody>\n",
       "</table>\n",
       "</div>"
      ],
      "text/plain": [
       "     Emotion                                          Paragraph  \\\n",
       "0  Surprised  \"Discovering recent advancements in medicine a...   \n",
       "1  Surprised  \"Came across an article about an unexpected sc...   \n",
       "2  Surprised  \"Found an article on surprising benefits of me...   \n",
       "3  Surprised  \"Just read an article about a newly discovered...   \n",
       "4  Surprised  \"I didn�t expect that at all! It came out of n...   \n",
       "\n",
       "                                         Title  \n",
       "0           \"Breakthrough in Cancer Research\"   \n",
       "1      \"New Brain Research Shocks Scientists\"   \n",
       "2         \"Unexpected Benefits of Meditation\"   \n",
       "3   \"New Species Discovery Shocks Scientists\"   \n",
       "4                             Unexpected News   "
      ]
     },
     "execution_count": 8,
     "metadata": {},
     "output_type": "execute_result"
    }
   ],
   "source": [
    "df.head()"
   ]
  },
  {
   "cell_type": "code",
   "execution_count": 9,
   "id": "531d3449-a959-4a19-bff0-3ffed551e619",
   "metadata": {},
   "outputs": [
    {
     "data": {
      "text/plain": [
       "<seaborn.axisgrid.FacetGrid at 0x1cb135ce8b0>"
      ]
     },
     "execution_count": 9,
     "metadata": {},
     "output_type": "execute_result"
    },
    {
     "data": {
      "image/png": "[encoded data removed]",
      "text/plain": [
       "<Figure size 1200x600 with 1 Axes>"
      ]
     },
     "metadata": {},
     "output_type": "display_data"
    }
   ],
   "source": [
    "# Plot\n",
    "sns.catplot(x='Emotion', kind='count', data=df, height=6, aspect=2)"
   ]
  },
  {
   "cell_type": "code",
   "execution_count": 10,
   "id": "40f991d0-952f-40c1-bf00-f3476ce0436d",
   "metadata": {
    "tags": []
   },
   "outputs": [
    {
     "data": {
      "text/plain": [
       "['BTC_ADDRESS_REGEX',\n",
       " 'CURRENCY_REGEX',\n",
       " 'CURRENCY_SYMB_REGEX',\n",
       " 'Counter',\n",
       " 'DATE_REGEX',\n",
       " 'EMAIL_REGEX',\n",
       " 'EMOJI_REGEX',\n",
       " 'HASTAG_REGEX',\n",
       " 'MASTERCard_REGEX',\n",
       " 'MD5_SHA_REGEX',\n",
       " 'MOST_COMMON_PUNCT_REGEX',\n",
       " 'NUMBERS_REGEX',\n",
       " 'PHONE_REGEX',\n",
       " 'PoBOX_REGEX',\n",
       " 'SPECIAL_CHARACTERS_REGEX',\n",
       " 'STOPWORDS',\n",
       " 'STOPWORDS_de',\n",
       " 'STOPWORDS_en',\n",
       " 'STOPWORDS_es',\n",
       " 'STOPWORDS_fr',\n",
       " 'STOPWORDS_ru',\n",
       " 'STOPWORDS_yo',\n",
       " 'STREET_ADDRESS_REGEX',\n",
       " 'TextFrame',\n",
       " 'URL_PATTERN',\n",
       " 'USER_HANDLES_REGEX',\n",
       " 'VISACard_REGEX',\n",
       " '__builtins__',\n",
       " '__cached__',\n",
       " '__doc__',\n",
       " '__file__',\n",
       " '__generate_text',\n",
       " '__loader__',\n",
       " '__name__',\n",
       " '__numbers_dict',\n",
       " '__package__',\n",
       " '__spec__',\n",
       " '_lex_richness_herdan',\n",
       " '_lex_richness_maas_ttr',\n",
       " 'clean_text',\n",
       " 'defaultdict',\n",
       " 'digit2words',\n",
       " 'extract_btc_address',\n",
       " 'extract_currencies',\n",
       " 'extract_currency_symbols',\n",
       " 'extract_dates',\n",
       " 'extract_emails',\n",
       " 'extract_emojis',\n",
       " 'extract_hashtags',\n",
       " 'extract_html_tags',\n",
       " 'extract_mastercard_addr',\n",
       " 'extract_md5sha',\n",
       " 'extract_numbers',\n",
       " 'extract_pattern',\n",
       " 'extract_phone_numbers',\n",
       " 'extract_postoffice_box',\n",
       " 'extract_shortwords',\n",
       " 'extract_special_characters',\n",
       " 'extract_stopwords',\n",
       " 'extract_street_address',\n",
       " 'extract_terms_in_bracket',\n",
       " 'extract_urls',\n",
       " 'extract_userhandles',\n",
       " 'extract_visacard_addr',\n",
       " 'fix_contractions',\n",
       " 'generate_sentence',\n",
       " 'hamming_distance',\n",
       " 'inverse_df',\n",
       " 'lexical_richness',\n",
       " 'markov_chain',\n",
       " 'math',\n",
       " 'nlargest',\n",
       " 'normalize',\n",
       " 'num2words',\n",
       " 'random',\n",
       " 're',\n",
       " 'read_txt',\n",
       " 'remove_accents',\n",
       " 'remove_bad_quotes',\n",
       " 'remove_btc_address',\n",
       " 'remove_currencies',\n",
       " 'remove_currency_symbols',\n",
       " 'remove_custom_pattern',\n",
       " 'remove_custom_words',\n",
       " 'remove_dates',\n",
       " 'remove_emails',\n",
       " 'remove_emojis',\n",
       " 'remove_hashtags',\n",
       " 'remove_html_tags',\n",
       " 'remove_mastercard_addr',\n",
       " 'remove_md5sha',\n",
       " 'remove_multiple_spaces',\n",
       " 'remove_non_ascii',\n",
       " 'remove_numbers',\n",
       " 'remove_phone_numbers',\n",
       " 'remove_postoffice_box',\n",
       " 'remove_puncts',\n",
       " 'remove_punctuations',\n",
       " 'remove_shortwords',\n",
       " 'remove_special_characters',\n",
       " 'remove_stopwords',\n",
       " 'remove_street_address',\n",
       " 'remove_terms_in_bracket',\n",
       " 'remove_urls',\n",
       " 'remove_userhandles',\n",
       " 'remove_visacard_addr',\n",
       " 'replace_bad_quotes',\n",
       " 'replace_currencies',\n",
       " 'replace_currency_symbols',\n",
       " 'replace_dates',\n",
       " 'replace_emails',\n",
       " 'replace_emojis',\n",
       " 'replace_numbers',\n",
       " 'replace_phone_numbers',\n",
       " 'replace_special_characters',\n",
       " 'replace_term',\n",
       " 'replace_urls',\n",
       " 'string',\n",
       " 'term_freq',\n",
       " 'to_txt',\n",
       " 'unicodedata',\n",
       " 'word_freq',\n",
       " 'word_length_freq']"
      ]
     },
     "execution_count": 10,
     "metadata": {},
     "output_type": "execute_result"
    }
   ],
   "source": [
    "# Data Cleaning\n",
    "dir(nfx)"
   ]
  },
  {
   "cell_type": "code",
   "execution_count": 11,
   "id": "b1f87847-a91c-4bd6-a307-d746eb5aa9a0",
   "metadata": {},
   "outputs": [],
   "source": [
    "# User handles\n",
    "df['Clean_Paragraph'] = df['Paragraph'].astype(str).apply(nfx.remove_userhandles)"
   ]
  },
  {
   "cell_type": "code",
   "execution_count": 12,
   "id": "03886bc3-1ac4-4f1b-842b-e5d2d770ff81",
   "metadata": {},
   "outputs": [],
   "source": [
    "# Stopwords\n",
    "df['Clean_Paragraph'] = df['Clean_Paragraph'].astype(str).apply(nfx.remove_stopwords)"
   ]
  },
  {
   "cell_type": "code",
   "execution_count": 13,
   "id": "0a0fcc0c-4adf-4f0b-b226-164659ad70ba",
   "metadata": {
    "tags": []
   },
   "outputs": [
    {
     "data": {
      "text/html": [
       "<div>\n",
       "<style scoped>\n",
       "    .dataframe tbody tr th:only-of-type {\n",
       "        vertical-align: middle;\n",
       "    }\n",
       "\n",
       "    .dataframe tbody tr th {\n",
       "        vertical-align: top;\n",
       "    }\n",
       "\n",
       "    .dataframe thead th {\n",
       "        text-align: right;\n",
       "    }\n",
       "</style>\n",
       "<table border=\"1\" class=\"dataframe\">\n",
       "  <thead>\n",
       "    <tr style=\"text-align: right;\">\n",
       "      <th></th>\n",
       "      <th>Emotion</th>\n",
       "      <th>Paragraph</th>\n",
       "      <th>Title</th>\n",
       "      <th>Clean_Paragraph</th>\n",
       "    </tr>\n",
       "  </thead>\n",
       "  <tbody>\n",
       "    <tr>\n",
       "      <th>0</th>\n",
       "      <td>Surprised</td>\n",
       "      <td>\"Discovering recent advancements in medicine a...</td>\n",
       "      <td>\"Breakthrough in Cancer Research\"</td>\n",
       "      <td>\"Discovering recent advancements medicine read...</td>\n",
       "    </tr>\n",
       "    <tr>\n",
       "      <th>1</th>\n",
       "      <td>Surprised</td>\n",
       "      <td>\"Came across an article about an unexpected sc...</td>\n",
       "      <td>\"New Brain Research Shocks Scientists\"</td>\n",
       "      <td>\"Came article unexpected scientific discovery ...</td>\n",
       "    </tr>\n",
       "    <tr>\n",
       "      <th>2</th>\n",
       "      <td>Surprised</td>\n",
       "      <td>\"Found an article on surprising benefits of me...</td>\n",
       "      <td>\"Unexpected Benefits of Meditation\"</td>\n",
       "      <td>\"Found article surprising benefits meditation ...</td>\n",
       "    </tr>\n",
       "    <tr>\n",
       "      <th>3</th>\n",
       "      <td>Surprised</td>\n",
       "      <td>\"Just read an article about a newly discovered...</td>\n",
       "      <td>\"New Species Discovery Shocks Scientists\"</td>\n",
       "      <td>\"Just read article newly discovered animal spe...</td>\n",
       "    </tr>\n",
       "    <tr>\n",
       "      <th>4</th>\n",
       "      <td>Surprised</td>\n",
       "      <td>\"I didn�t expect that at all! It came out of n...</td>\n",
       "      <td>Unexpected News</td>\n",
       "      <td>\"I didn�t expect all! came nowhere, I�m trying...</td>\n",
       "    </tr>\n",
       "    <tr>\n",
       "      <th>...</th>\n",
       "      <td>...</td>\n",
       "      <td>...</td>\n",
       "      <td>...</td>\n",
       "      <td>...</td>\n",
       "    </tr>\n",
       "    <tr>\n",
       "      <th>550</th>\n",
       "      <td>Depressive</td>\n",
       "      <td>\"I wake up, but it feels like I�m still asleep...</td>\n",
       "      <td>Trapped in Darkness</td>\n",
       "      <td>\"I wake up, feels like I�m asleep, trapped haz...</td>\n",
       "    </tr>\n",
       "    <tr>\n",
       "      <th>551</th>\n",
       "      <td>Depressive</td>\n",
       "      <td>\"I feel numb to everything. Even the things I ...</td>\n",
       "      <td>Numb and Empty</td>\n",
       "      <td>\"I feel numb everything. things enjoy feel lik...</td>\n",
       "    </tr>\n",
       "    <tr>\n",
       "      <th>552</th>\n",
       "      <td>Depressive</td>\n",
       "      <td>\"I feel like I�m carrying the weight of the wo...</td>\n",
       "      <td>Crushed by the World</td>\n",
       "      <td>\"I feel like I�m carrying weight world shoulde...</td>\n",
       "    </tr>\n",
       "    <tr>\n",
       "      <th>553</th>\n",
       "      <td>Depressive</td>\n",
       "      <td>\"Everything feels pointless today. I don�t wan...</td>\n",
       "      <td>Pointless Existence</td>\n",
       "      <td>\"Everything feels pointless today. don�t want ...</td>\n",
       "    </tr>\n",
       "    <tr>\n",
       "      <th>554</th>\n",
       "      <td>Depressive</td>\n",
       "      <td>\"I feel so distant from everything. It�s like ...</td>\n",
       "      <td>Disconnected Feeling</td>\n",
       "      <td>\"I feel distant everything. It�s like I�m watc...</td>\n",
       "    </tr>\n",
       "  </tbody>\n",
       "</table>\n",
       "<p>555 rows × 4 columns</p>\n",
       "</div>"
      ],
      "text/plain": [
       "        Emotion                                          Paragraph  \\\n",
       "0     Surprised  \"Discovering recent advancements in medicine a...   \n",
       "1     Surprised  \"Came across an article about an unexpected sc...   \n",
       "2     Surprised  \"Found an article on surprising benefits of me...   \n",
       "3     Surprised  \"Just read an article about a newly discovered...   \n",
       "4     Surprised  \"I didn�t expect that at all! It came out of n...   \n",
       "..          ...                                                ...   \n",
       "550  Depressive  \"I wake up, but it feels like I�m still asleep...   \n",
       "551  Depressive  \"I feel numb to everything. Even the things I ...   \n",
       "552  Depressive  \"I feel like I�m carrying the weight of the wo...   \n",
       "553  Depressive  \"Everything feels pointless today. I don�t wan...   \n",
       "554  Depressive  \"I feel so distant from everything. It�s like ...   \n",
       "\n",
       "                                           Title  \\\n",
       "0             \"Breakthrough in Cancer Research\"    \n",
       "1        \"New Brain Research Shocks Scientists\"    \n",
       "2           \"Unexpected Benefits of Meditation\"    \n",
       "3     \"New Species Discovery Shocks Scientists\"    \n",
       "4                               Unexpected News    \n",
       "..                                           ...   \n",
       "550                         Trapped in Darkness    \n",
       "551                              Numb and Empty    \n",
       "552                        Crushed by the World    \n",
       "553                         Pointless Existence    \n",
       "554                        Disconnected Feeling    \n",
       "\n",
       "                                       Clean_Paragraph  \n",
       "0    \"Discovering recent advancements medicine read...  \n",
       "1    \"Came article unexpected scientific discovery ...  \n",
       "2    \"Found article surprising benefits meditation ...  \n",
       "3    \"Just read article newly discovered animal spe...  \n",
       "4    \"I didn�t expect all! came nowhere, I�m trying...  \n",
       "..                                                 ...  \n",
       "550  \"I wake up, feels like I�m asleep, trapped haz...  \n",
       "551  \"I feel numb everything. things enjoy feel lik...  \n",
       "552  \"I feel like I�m carrying weight world shoulde...  \n",
       "553  \"Everything feels pointless today. don�t want ...  \n",
       "554  \"I feel distant everything. It�s like I�m watc...  \n",
       "\n",
       "[555 rows x 4 columns]"
      ]
     },
     "execution_count": 13,
     "metadata": {},
     "output_type": "execute_result"
    }
   ],
   "source": [
    "df"
   ]
  },
  {
   "cell_type": "code",
   "execution_count": 14,
   "id": "536fd3e4-6808-467c-a9ed-d48a630d788e",
   "metadata": {},
   "outputs": [],
   "source": [
    "# User handles\n",
    "df['Clean_Title'] = df['Title'].astype(str).apply(nfx.remove_userhandles)"
   ]
  },
  {
   "cell_type": "code",
   "execution_count": 15,
   "id": "5f0dd21f-78d7-4ee3-89bc-4570243ce778",
   "metadata": {},
   "outputs": [],
   "source": [
    "# Stopwords\n",
    "df['Clean_Title'] = df['Clean_Title'].astype(str).apply(nfx.remove_stopwords)"
   ]
  },
  {
   "cell_type": "code",
   "execution_count": 16,
   "id": "4e99040b-a253-49be-ae80-a39a86376b80",
   "metadata": {},
   "outputs": [
    {
     "data": {
      "text/html": [
       "<div>\n",
       "<style scoped>\n",
       "    .dataframe tbody tr th:only-of-type {\n",
       "        vertical-align: middle;\n",
       "    }\n",
       "\n",
       "    .dataframe tbody tr th {\n",
       "        vertical-align: top;\n",
       "    }\n",
       "\n",
       "    .dataframe thead th {\n",
       "        text-align: right;\n",
       "    }\n",
       "</style>\n",
       "<table border=\"1\" class=\"dataframe\">\n",
       "  <thead>\n",
       "    <tr style=\"text-align: right;\">\n",
       "      <th></th>\n",
       "      <th>Emotion</th>\n",
       "      <th>Paragraph</th>\n",
       "      <th>Title</th>\n",
       "      <th>Clean_Paragraph</th>\n",
       "      <th>Clean_Title</th>\n",
       "    </tr>\n",
       "  </thead>\n",
       "  <tbody>\n",
       "    <tr>\n",
       "      <th>0</th>\n",
       "      <td>Surprised</td>\n",
       "      <td>\"Discovering recent advancements in medicine a...</td>\n",
       "      <td>\"Breakthrough in Cancer Research\"</td>\n",
       "      <td>\"Discovering recent advancements medicine read...</td>\n",
       "      <td>\"Breakthrough Cancer Research\"</td>\n",
       "    </tr>\n",
       "    <tr>\n",
       "      <th>1</th>\n",
       "      <td>Surprised</td>\n",
       "      <td>\"Came across an article about an unexpected sc...</td>\n",
       "      <td>\"New Brain Research Shocks Scientists\"</td>\n",
       "      <td>\"Came article unexpected scientific discovery ...</td>\n",
       "      <td>\"New Brain Research Shocks Scientists\"</td>\n",
       "    </tr>\n",
       "    <tr>\n",
       "      <th>2</th>\n",
       "      <td>Surprised</td>\n",
       "      <td>\"Found an article on surprising benefits of me...</td>\n",
       "      <td>\"Unexpected Benefits of Meditation\"</td>\n",
       "      <td>\"Found article surprising benefits meditation ...</td>\n",
       "      <td>\"Unexpected Benefits Meditation\"</td>\n",
       "    </tr>\n",
       "    <tr>\n",
       "      <th>3</th>\n",
       "      <td>Surprised</td>\n",
       "      <td>\"Just read an article about a newly discovered...</td>\n",
       "      <td>\"New Species Discovery Shocks Scientists\"</td>\n",
       "      <td>\"Just read article newly discovered animal spe...</td>\n",
       "      <td>\"New Species Discovery Shocks Scientists\"</td>\n",
       "    </tr>\n",
       "    <tr>\n",
       "      <th>4</th>\n",
       "      <td>Surprised</td>\n",
       "      <td>\"I didn�t expect that at all! It came out of n...</td>\n",
       "      <td>Unexpected News</td>\n",
       "      <td>\"I didn�t expect all! came nowhere, I�m trying...</td>\n",
       "      <td>Unexpected News</td>\n",
       "    </tr>\n",
       "    <tr>\n",
       "      <th>...</th>\n",
       "      <td>...</td>\n",
       "      <td>...</td>\n",
       "      <td>...</td>\n",
       "      <td>...</td>\n",
       "      <td>...</td>\n",
       "    </tr>\n",
       "    <tr>\n",
       "      <th>550</th>\n",
       "      <td>Depressive</td>\n",
       "      <td>\"I wake up, but it feels like I�m still asleep...</td>\n",
       "      <td>Trapped in Darkness</td>\n",
       "      <td>\"I wake up, feels like I�m asleep, trapped haz...</td>\n",
       "      <td>Trapped Darkness</td>\n",
       "    </tr>\n",
       "    <tr>\n",
       "      <th>551</th>\n",
       "      <td>Depressive</td>\n",
       "      <td>\"I feel numb to everything. Even the things I ...</td>\n",
       "      <td>Numb and Empty</td>\n",
       "      <td>\"I feel numb everything. things enjoy feel lik...</td>\n",
       "      <td>Numb</td>\n",
       "    </tr>\n",
       "    <tr>\n",
       "      <th>552</th>\n",
       "      <td>Depressive</td>\n",
       "      <td>\"I feel like I�m carrying the weight of the wo...</td>\n",
       "      <td>Crushed by the World</td>\n",
       "      <td>\"I feel like I�m carrying weight world shoulde...</td>\n",
       "      <td>Crushed World</td>\n",
       "    </tr>\n",
       "    <tr>\n",
       "      <th>553</th>\n",
       "      <td>Depressive</td>\n",
       "      <td>\"Everything feels pointless today. I don�t wan...</td>\n",
       "      <td>Pointless Existence</td>\n",
       "      <td>\"Everything feels pointless today. don�t want ...</td>\n",
       "      <td>Pointless Existence</td>\n",
       "    </tr>\n",
       "    <tr>\n",
       "      <th>554</th>\n",
       "      <td>Depressive</td>\n",
       "      <td>\"I feel so distant from everything. It�s like ...</td>\n",
       "      <td>Disconnected Feeling</td>\n",
       "      <td>\"I feel distant everything. It�s like I�m watc...</td>\n",
       "      <td>Disconnected Feeling</td>\n",
       "    </tr>\n",
       "  </tbody>\n",
       "</table>\n",
       "<p>555 rows × 5 columns</p>\n",
       "</div>"
      ],
      "text/plain": [
       "        Emotion                                          Paragraph  \\\n",
       "0     Surprised  \"Discovering recent advancements in medicine a...   \n",
       "1     Surprised  \"Came across an article about an unexpected sc...   \n",
       "2     Surprised  \"Found an article on surprising benefits of me...   \n",
       "3     Surprised  \"Just read an article about a newly discovered...   \n",
       "4     Surprised  \"I didn�t expect that at all! It came out of n...   \n",
       "..          ...                                                ...   \n",
       "550  Depressive  \"I wake up, but it feels like I�m still asleep...   \n",
       "551  Depressive  \"I feel numb to everything. Even the things I ...   \n",
       "552  Depressive  \"I feel like I�m carrying the weight of the wo...   \n",
       "553  Depressive  \"Everything feels pointless today. I don�t wan...   \n",
       "554  Depressive  \"I feel so distant from everything. It�s like ...   \n",
       "\n",
       "                                           Title  \\\n",
       "0             \"Breakthrough in Cancer Research\"    \n",
       "1        \"New Brain Research Shocks Scientists\"    \n",
       "2           \"Unexpected Benefits of Meditation\"    \n",
       "3     \"New Species Discovery Shocks Scientists\"    \n",
       "4                               Unexpected News    \n",
       "..                                           ...   \n",
       "550                         Trapped in Darkness    \n",
       "551                              Numb and Empty    \n",
       "552                        Crushed by the World    \n",
       "553                         Pointless Existence    \n",
       "554                        Disconnected Feeling    \n",
       "\n",
       "                                       Clean_Paragraph  \\\n",
       "0    \"Discovering recent advancements medicine read...   \n",
       "1    \"Came article unexpected scientific discovery ...   \n",
       "2    \"Found article surprising benefits meditation ...   \n",
       "3    \"Just read article newly discovered animal spe...   \n",
       "4    \"I didn�t expect all! came nowhere, I�m trying...   \n",
       "..                                                 ...   \n",
       "550  \"I wake up, feels like I�m asleep, trapped haz...   \n",
       "551  \"I feel numb everything. things enjoy feel lik...   \n",
       "552  \"I feel like I�m carrying weight world shoulde...   \n",
       "553  \"Everything feels pointless today. don�t want ...   \n",
       "554  \"I feel distant everything. It�s like I�m watc...   \n",
       "\n",
       "                                   Clean_Title  \n",
       "0               \"Breakthrough Cancer Research\"  \n",
       "1       \"New Brain Research Shocks Scientists\"  \n",
       "2             \"Unexpected Benefits Meditation\"  \n",
       "3    \"New Species Discovery Shocks Scientists\"  \n",
       "4                              Unexpected News  \n",
       "..                                         ...  \n",
       "550                           Trapped Darkness  \n",
       "551                                       Numb  \n",
       "552                              Crushed World  \n",
       "553                        Pointless Existence  \n",
       "554                       Disconnected Feeling  \n",
       "\n",
       "[555 rows x 5 columns]"
      ]
     },
     "execution_count": 16,
     "metadata": {},
     "output_type": "execute_result"
    }
   ],
   "source": [
    "df"
   ]
  },
  {
   "cell_type": "code",
   "execution_count": 17,
   "id": "450c39c0-79dd-4eaf-85fe-57e344eb81bd",
   "metadata": {},
   "outputs": [],
   "source": [
    "# Selecting 'Clean_Paragraph' and 'Clean_Title' as features\n",
    "Xfeatures = df[['Clean_Paragraph', 'Clean_Title']]\n",
    "# Selecting 'Emotion' as the label\n",
    "ylabels = df['Emotion']"
   ]
  },
  {
   "cell_type": "code",
   "execution_count": 18,
   "id": "c3626a82-69e4-4875-8952-424aa7f253ec",
   "metadata": {},
   "outputs": [
    {
     "data": {
      "text/html": [
       "<div>\n",
       "<style scoped>\n",
       "    .dataframe tbody tr th:only-of-type {\n",
       "        vertical-align: middle;\n",
       "    }\n",
       "\n",
       "    .dataframe tbody tr th {\n",
       "        vertical-align: top;\n",
       "    }\n",
       "\n",
       "    .dataframe thead th {\n",
       "        text-align: right;\n",
       "    }\n",
       "</style>\n",
       "<table border=\"1\" class=\"dataframe\">\n",
       "  <thead>\n",
       "    <tr style=\"text-align: right;\">\n",
       "      <th></th>\n",
       "      <th>Clean_Paragraph</th>\n",
       "      <th>Clean_Title</th>\n",
       "    </tr>\n",
       "  </thead>\n",
       "  <tbody>\n",
       "    <tr>\n",
       "      <th>0</th>\n",
       "      <td>\"Discovering recent advancements medicine read...</td>\n",
       "      <td>\"Breakthrough Cancer Research\"</td>\n",
       "    </tr>\n",
       "    <tr>\n",
       "      <th>1</th>\n",
       "      <td>\"Came article unexpected scientific discovery ...</td>\n",
       "      <td>\"New Brain Research Shocks Scientists\"</td>\n",
       "    </tr>\n",
       "    <tr>\n",
       "      <th>2</th>\n",
       "      <td>\"Found article surprising benefits meditation ...</td>\n",
       "      <td>\"Unexpected Benefits Meditation\"</td>\n",
       "    </tr>\n",
       "    <tr>\n",
       "      <th>3</th>\n",
       "      <td>\"Just read article newly discovered animal spe...</td>\n",
       "      <td>\"New Species Discovery Shocks Scientists\"</td>\n",
       "    </tr>\n",
       "    <tr>\n",
       "      <th>4</th>\n",
       "      <td>\"I didn�t expect all! came nowhere, I�m trying...</td>\n",
       "      <td>Unexpected News</td>\n",
       "    </tr>\n",
       "    <tr>\n",
       "      <th>...</th>\n",
       "      <td>...</td>\n",
       "      <td>...</td>\n",
       "    </tr>\n",
       "    <tr>\n",
       "      <th>550</th>\n",
       "      <td>\"I wake up, feels like I�m asleep, trapped haz...</td>\n",
       "      <td>Trapped Darkness</td>\n",
       "    </tr>\n",
       "    <tr>\n",
       "      <th>551</th>\n",
       "      <td>\"I feel numb everything. things enjoy feel lik...</td>\n",
       "      <td>Numb</td>\n",
       "    </tr>\n",
       "    <tr>\n",
       "      <th>552</th>\n",
       "      <td>\"I feel like I�m carrying weight world shoulde...</td>\n",
       "      <td>Crushed World</td>\n",
       "    </tr>\n",
       "    <tr>\n",
       "      <th>553</th>\n",
       "      <td>\"Everything feels pointless today. don�t want ...</td>\n",
       "      <td>Pointless Existence</td>\n",
       "    </tr>\n",
       "    <tr>\n",
       "      <th>554</th>\n",
       "      <td>\"I feel distant everything. It�s like I�m watc...</td>\n",
       "      <td>Disconnected Feeling</td>\n",
       "    </tr>\n",
       "  </tbody>\n",
       "</table>\n",
       "<p>555 rows × 2 columns</p>\n",
       "</div>"
      ],
      "text/plain": [
       "                                       Clean_Paragraph  \\\n",
       "0    \"Discovering recent advancements medicine read...   \n",
       "1    \"Came article unexpected scientific discovery ...   \n",
       "2    \"Found article surprising benefits meditation ...   \n",
       "3    \"Just read article newly discovered animal spe...   \n",
       "4    \"I didn�t expect all! came nowhere, I�m trying...   \n",
       "..                                                 ...   \n",
       "550  \"I wake up, feels like I�m asleep, trapped haz...   \n",
       "551  \"I feel numb everything. things enjoy feel lik...   \n",
       "552  \"I feel like I�m carrying weight world shoulde...   \n",
       "553  \"Everything feels pointless today. don�t want ...   \n",
       "554  \"I feel distant everything. It�s like I�m watc...   \n",
       "\n",
       "                                   Clean_Title  \n",
       "0               \"Breakthrough Cancer Research\"  \n",
       "1       \"New Brain Research Shocks Scientists\"  \n",
       "2             \"Unexpected Benefits Meditation\"  \n",
       "3    \"New Species Discovery Shocks Scientists\"  \n",
       "4                              Unexpected News  \n",
       "..                                         ...  \n",
       "550                           Trapped Darkness  \n",
       "551                                       Numb  \n",
       "552                              Crushed World  \n",
       "553                        Pointless Existence  \n",
       "554                       Disconnected Feeling  \n",
       "\n",
       "[555 rows x 2 columns]"
      ]
     },
     "execution_count": 18,
     "metadata": {},
     "output_type": "execute_result"
    }
   ],
   "source": [
    "Xfeatures"
   ]
  },
  {
   "cell_type": "code",
   "execution_count": 19,
   "id": "27d7f976-c28f-449e-ae1a-53a42bbda4e8",
   "metadata": {},
   "outputs": [],
   "source": [
    "#  Split Data\n",
    "x_train,x_test,y_train,y_test = train_test_split(Xfeatures,ylabels,test_size=0.3,random_state=42)"
   ]
  },
  {
   "cell_type": "code",
   "execution_count": 20,
   "id": "2f086f29-dba9-40d2-a9dd-f06a6cca3a4c",
   "metadata": {},
   "outputs": [],
   "source": [
    "# Build Pipeline\n",
    "from sklearn.pipeline import Pipeline\n",
    "from sklearn.feature_extraction.text import CountVectorizer \n",
    "from sklearn.linear_model import LogisticRegression \n",
    "from sklearn.compose import ColumnTransformer"
   ]
  },
  {
   "cell_type": "code",
   "execution_count": 21,
   "id": "a3a1d29e-9817-411a-912e-05b551e2e617",
   "metadata": {},
   "outputs": [],
   "source": [
    "# Create a column transformer to apply the CountVectorizer to both text columns\n",
    "preprocessor = ColumnTransformer( transformers=[ ('Clean_Title', CountVectorizer(), 'Clean_Title'), ('Clean_Paragraph', CountVectorizer(), 'Clean_Paragraph') ], remainder='passthrough' )"
   ]
  },
  {
   "cell_type": "code",
   "execution_count": 22,
   "id": "6b81cc86-2bef-40c2-b9a3-668caaadaff0",
   "metadata": {},
   "outputs": [],
   "source": [
    "# LogisticRegression Pipeline\n",
    "pipe_lr = Pipeline(steps=[ ('preprocessor', preprocessor), ('lr', LogisticRegression(solver='lbfgs')) ])"
   ]
  },
  {
   "cell_type": "code",
   "execution_count": 23,
   "id": "dc64b9a7-efe2-4bc4-a0e7-46dff1d52b31",
   "metadata": {
    "tags": []
   },
   "outputs": [
    {
     "data": {
      "text/html": [
       "<style>#sk-container-id-1 {color: black;background-color: white;}#sk-container-id-1 pre{padding: 0;}#sk-container-id-1 div.sk-toggleable {background-color: white;}#sk-container-id-1 label.sk-toggleable__label {cursor: pointer;display: block;width: 100%;margin-bottom: 0;padding: 0.3em;box-sizing: border-box;text-align: center;}#sk-container-id-1 label.sk-toggleable__label-arrow:before {content: \"▸\";float: left;margin-right: 0.25em;color: #696969;}#sk-container-id-1 label.sk-toggleable__label-arrow:hover:before {color: black;}#sk-container-id-1 div.sk-estimator:hover label.sk-toggleable__label-arrow:before {color: black;}#sk-container-id-1 div.sk-toggleable__content {max-height: 0;max-width: 0;overflow: hidden;text-align: left;background-color: #f0f8ff;}#sk-container-id-1 div.sk-toggleable__content pre {margin: 0.2em;color: black;border-radius: 0.25em;background-color: #f0f8ff;}#sk-container-id-1 input.sk-toggleable__control:checked~div.sk-toggleable__content {max-height: 200px;max-width: 100%;overflow: auto;}#sk-container-id-1 input.sk-toggleable__control:checked~label.sk-toggleable__label-arrow:before {content: \"▾\";}#sk-container-id-1 div.sk-estimator input.sk-toggleable__control:checked~label.sk-toggleable__label {background-color: #d4ebff;}#sk-container-id-1 div.sk-label input.sk-toggleable__control:checked~label.sk-toggleable__label {background-color: #d4ebff;}#sk-container-id-1 input.sk-hidden--visually {border: 0;clip: rect(1px 1px 1px 1px);clip: rect(1px, 1px, 1px, 1px);height: 1px;margin: -1px;overflow: hidden;padding: 0;position: absolute;width: 1px;}#sk-container-id-1 div.sk-estimator {font-family: monospace;background-color: #f0f8ff;border: 1px dotted black;border-radius: 0.25em;box-sizing: border-box;margin-bottom: 0.5em;}#sk-container-id-1 div.sk-estimator:hover {background-color: #d4ebff;}#sk-container-id-1 div.sk-parallel-item::after {content: \"\";width: 100%;border-bottom: 1px solid gray;flex-grow: 1;}#sk-container-id-1 div.sk-label:hover label.sk-toggleable__label {background-color: #d4ebff;}#sk-container-id-1 div.sk-serial::before {content: \"\";position: absolute;border-left: 1px solid gray;box-sizing: border-box;top: 0;bottom: 0;left: 50%;z-index: 0;}#sk-container-id-1 div.sk-serial {display: flex;flex-direction: column;align-items: center;background-color: white;padding-right: 0.2em;padding-left: 0.2em;position: relative;}#sk-container-id-1 div.sk-item {position: relative;z-index: 1;}#sk-container-id-1 div.sk-parallel {display: flex;align-items: stretch;justify-content: center;background-color: white;position: relative;}#sk-container-id-1 div.sk-item::before, #sk-container-id-1 div.sk-parallel-item::before {content: \"\";position: absolute;border-left: 1px solid gray;box-sizing: border-box;top: 0;bottom: 0;left: 50%;z-index: -1;}#sk-container-id-1 div.sk-parallel-item {display: flex;flex-direction: column;z-index: 1;position: relative;background-color: white;}#sk-container-id-1 div.sk-parallel-item:first-child::after {align-self: flex-end;width: 50%;}#sk-container-id-1 div.sk-parallel-item:last-child::after {align-self: flex-start;width: 50%;}#sk-container-id-1 div.sk-parallel-item:only-child::after {width: 0;}#sk-container-id-1 div.sk-dashed-wrapped {border: 1px dashed gray;margin: 0 0.4em 0.5em 0.4em;box-sizing: border-box;padding-bottom: 0.4em;background-color: white;}#sk-container-id-1 div.sk-label label {font-family: monospace;font-weight: bold;display: inline-block;line-height: 1.2em;}#sk-container-id-1 div.sk-label-container {text-align: center;}#sk-container-id-1 div.sk-container {/* jupyter's `normalize.less` sets `[hidden] { display: none; }` but bootstrap.min.css set `[hidden] { display: none !important; }` so we also need the `!important` here to be able to override the default hidden behavior on the sphinx rendered scikit-learn.org. See: https://github.com/scikit-learn/scikit-learn/issues/21755 */display: inline-block !important;position: relative;}#sk-container-id-1 div.sk-text-repr-fallback {display: none;}</style><div id=\"sk-container-id-1\" class=\"sk-top-container\"><div class=\"sk-text-repr-fallback\"><pre>Pipeline(steps=[(&#x27;preprocessor&#x27;,\n",
       "                 ColumnTransformer(remainder=&#x27;passthrough&#x27;,\n",
       "                                   transformers=[(&#x27;Clean_Title&#x27;,\n",
       "                                                  CountVectorizer(),\n",
       "                                                  &#x27;Clean_Title&#x27;),\n",
       "                                                 (&#x27;Clean_Paragraph&#x27;,\n",
       "                                                  CountVectorizer(),\n",
       "                                                  &#x27;Clean_Paragraph&#x27;)])),\n",
       "                (&#x27;lr&#x27;, LogisticRegression())])</pre><b>In a Jupyter environment, please rerun this cell to show the HTML representation or trust the notebook. <br />On GitHub, the HTML representation is unable to render, please try loading this page with nbviewer.org.</b></div><div class=\"sk-container\" hidden><div class=\"sk-item sk-dashed-wrapped\"><div class=\"sk-label-container\"><div class=\"sk-label sk-toggleable\"><input class=\"sk-toggleable__control sk-hidden--visually\" id=\"sk-estimator-id-1\" type=\"checkbox\" ><label for=\"sk-estimator-id-1\" class=\"sk-toggleable__label sk-toggleable__label-arrow\">Pipeline</label><div class=\"sk-toggleable__content\"><pre>Pipeline(steps=[(&#x27;preprocessor&#x27;,\n",
       "                 ColumnTransformer(remainder=&#x27;passthrough&#x27;,\n",
       "                                   transformers=[(&#x27;Clean_Title&#x27;,\n",
       "                                                  CountVectorizer(),\n",
       "                                                  &#x27;Clean_Title&#x27;),\n",
       "                                                 (&#x27;Clean_Paragraph&#x27;,\n",
       "                                                  CountVectorizer(),\n",
       "                                                  &#x27;Clean_Paragraph&#x27;)])),\n",
       "                (&#x27;lr&#x27;, LogisticRegression())])</pre></div></div></div><div class=\"sk-serial\"><div class=\"sk-item sk-dashed-wrapped\"><div class=\"sk-label-container\"><div class=\"sk-label sk-toggleable\"><input class=\"sk-toggleable__control sk-hidden--visually\" id=\"sk-estimator-id-2\" type=\"checkbox\" ><label for=\"sk-estimator-id-2\" class=\"sk-toggleable__label sk-toggleable__label-arrow\">preprocessor: ColumnTransformer</label><div class=\"sk-toggleable__content\"><pre>ColumnTransformer(remainder=&#x27;passthrough&#x27;,\n",
       "                  transformers=[(&#x27;Clean_Title&#x27;, CountVectorizer(),\n",
       "                                 &#x27;Clean_Title&#x27;),\n",
       "                                (&#x27;Clean_Paragraph&#x27;, CountVectorizer(),\n",
       "                                 &#x27;Clean_Paragraph&#x27;)])</pre></div></div></div><div class=\"sk-parallel\"><div class=\"sk-parallel-item\"><div class=\"sk-item\"><div class=\"sk-label-container\"><div class=\"sk-label sk-toggleable\"><input class=\"sk-toggleable__control sk-hidden--visually\" id=\"sk-estimator-id-3\" type=\"checkbox\" ><label for=\"sk-estimator-id-3\" class=\"sk-toggleable__label sk-toggleable__label-arrow\">Clean_Title</label><div class=\"sk-toggleable__content\"><pre>Clean_Title</pre></div></div></div><div class=\"sk-serial\"><div class=\"sk-item\"><div class=\"sk-estimator sk-toggleable\"><input class=\"sk-toggleable__control sk-hidden--visually\" id=\"sk-estimator-id-4\" type=\"checkbox\" ><label for=\"sk-estimator-id-4\" class=\"sk-toggleable__label sk-toggleable__label-arrow\">CountVectorizer</label><div class=\"sk-toggleable__content\"><pre>CountVectorizer()</pre></div></div></div></div></div></div><div class=\"sk-parallel-item\"><div class=\"sk-item\"><div class=\"sk-label-container\"><div class=\"sk-label sk-toggleable\"><input class=\"sk-toggleable__control sk-hidden--visually\" id=\"sk-estimator-id-5\" type=\"checkbox\" ><label for=\"sk-estimator-id-5\" class=\"sk-toggleable__label sk-toggleable__label-arrow\">Clean_Paragraph</label><div class=\"sk-toggleable__content\"><pre>Clean_Paragraph</pre></div></div></div><div class=\"sk-serial\"><div class=\"sk-item\"><div class=\"sk-estimator sk-toggleable\"><input class=\"sk-toggleable__control sk-hidden--visually\" id=\"sk-estimator-id-6\" type=\"checkbox\" ><label for=\"sk-estimator-id-6\" class=\"sk-toggleable__label sk-toggleable__label-arrow\">CountVectorizer</label><div class=\"sk-toggleable__content\"><pre>CountVectorizer()</pre></div></div></div></div></div></div><div class=\"sk-parallel-item\"><div class=\"sk-item\"><div class=\"sk-label-container\"><div class=\"sk-label sk-toggleable\"><input class=\"sk-toggleable__control sk-hidden--visually\" id=\"sk-estimator-id-7\" type=\"checkbox\" ><label for=\"sk-estimator-id-7\" class=\"sk-toggleable__label sk-toggleable__label-arrow\">remainder</label><div class=\"sk-toggleable__content\"><pre>[]</pre></div></div></div><div class=\"sk-serial\"><div class=\"sk-item\"><div class=\"sk-estimator sk-toggleable\"><input class=\"sk-toggleable__control sk-hidden--visually\" id=\"sk-estimator-id-8\" type=\"checkbox\" ><label for=\"sk-estimator-id-8\" class=\"sk-toggleable__label sk-toggleable__label-arrow\">passthrough</label><div class=\"sk-toggleable__content\"><pre>passthrough</pre></div></div></div></div></div></div></div></div><div class=\"sk-item\"><div class=\"sk-estimator sk-toggleable\"><input class=\"sk-toggleable__control sk-hidden--visually\" id=\"sk-estimator-id-9\" type=\"checkbox\" ><label for=\"sk-estimator-id-9\" class=\"sk-toggleable__label sk-toggleable__label-arrow\">LogisticRegression</label><div class=\"sk-toggleable__content\"><pre>LogisticRegression()</pre></div></div></div></div></div></div></div>"
      ],
      "text/plain": [
       "Pipeline(steps=[('preprocessor',\n",
       "                 ColumnTransformer(remainder='passthrough',\n",
       "                                   transformers=[('Clean_Title',\n",
       "                                                  CountVectorizer(),\n",
       "                                                  'Clean_Title'),\n",
       "                                                 ('Clean_Paragraph',\n",
       "                                                  CountVectorizer(),\n",
       "                                                  'Clean_Paragraph')])),\n",
       "                ('lr', LogisticRegression())])"
      ]
     },
     "execution_count": 23,
     "metadata": {},
     "output_type": "execute_result"
    }
   ],
   "source": [
    "# Train and Fit Data\n",
    "pipe_lr.fit(x_train.astype(str), y_train.astype(str))"
   ]
  },
  {
   "cell_type": "code",
   "execution_count": 24,
   "id": "135ed6f8-56ff-4d53-85e3-541e3a7ae2d7",
   "metadata": {},
   "outputs": [
    {
     "data": {
      "text/html": [
       "<style>#sk-container-id-2 {color: black;background-color: white;}#sk-container-id-2 pre{padding: 0;}#sk-container-id-2 div.sk-toggleable {background-color: white;}#sk-container-id-2 label.sk-toggleable__label {cursor: pointer;display: block;width: 100%;margin-bottom: 0;padding: 0.3em;box-sizing: border-box;text-align: center;}#sk-container-id-2 label.sk-toggleable__label-arrow:before {content: \"▸\";float: left;margin-right: 0.25em;color: #696969;}#sk-container-id-2 label.sk-toggleable__label-arrow:hover:before {color: black;}#sk-container-id-2 div.sk-estimator:hover label.sk-toggleable__label-arrow:before {color: black;}#sk-container-id-2 div.sk-toggleable__content {max-height: 0;max-width: 0;overflow: hidden;text-align: left;background-color: #f0f8ff;}#sk-container-id-2 div.sk-toggleable__content pre {margin: 0.2em;color: black;border-radius: 0.25em;background-color: #f0f8ff;}#sk-container-id-2 input.sk-toggleable__control:checked~div.sk-toggleable__content {max-height: 200px;max-width: 100%;overflow: auto;}#sk-container-id-2 input.sk-toggleable__control:checked~label.sk-toggleable__label-arrow:before {content: \"▾\";}#sk-container-id-2 div.sk-estimator input.sk-toggleable__control:checked~label.sk-toggleable__label {background-color: #d4ebff;}#sk-container-id-2 div.sk-label input.sk-toggleable__control:checked~label.sk-toggleable__label {background-color: #d4ebff;}#sk-container-id-2 input.sk-hidden--visually {border: 0;clip: rect(1px 1px 1px 1px);clip: rect(1px, 1px, 1px, 1px);height: 1px;margin: -1px;overflow: hidden;padding: 0;position: absolute;width: 1px;}#sk-container-id-2 div.sk-estimator {font-family: monospace;background-color: #f0f8ff;border: 1px dotted black;border-radius: 0.25em;box-sizing: border-box;margin-bottom: 0.5em;}#sk-container-id-2 div.sk-estimator:hover {background-color: #d4ebff;}#sk-container-id-2 div.sk-parallel-item::after {content: \"\";width: 100%;border-bottom: 1px solid gray;flex-grow: 1;}#sk-container-id-2 div.sk-label:hover label.sk-toggleable__label {background-color: #d4ebff;}#sk-container-id-2 div.sk-serial::before {content: \"\";position: absolute;border-left: 1px solid gray;box-sizing: border-box;top: 0;bottom: 0;left: 50%;z-index: 0;}#sk-container-id-2 div.sk-serial {display: flex;flex-direction: column;align-items: center;background-color: white;padding-right: 0.2em;padding-left: 0.2em;position: relative;}#sk-container-id-2 div.sk-item {position: relative;z-index: 1;}#sk-container-id-2 div.sk-parallel {display: flex;align-items: stretch;justify-content: center;background-color: white;position: relative;}#sk-container-id-2 div.sk-item::before, #sk-container-id-2 div.sk-parallel-item::before {content: \"\";position: absolute;border-left: 1px solid gray;box-sizing: border-box;top: 0;bottom: 0;left: 50%;z-index: -1;}#sk-container-id-2 div.sk-parallel-item {display: flex;flex-direction: column;z-index: 1;position: relative;background-color: white;}#sk-container-id-2 div.sk-parallel-item:first-child::after {align-self: flex-end;width: 50%;}#sk-container-id-2 div.sk-parallel-item:last-child::after {align-self: flex-start;width: 50%;}#sk-container-id-2 div.sk-parallel-item:only-child::after {width: 0;}#sk-container-id-2 div.sk-dashed-wrapped {border: 1px dashed gray;margin: 0 0.4em 0.5em 0.4em;box-sizing: border-box;padding-bottom: 0.4em;background-color: white;}#sk-container-id-2 div.sk-label label {font-family: monospace;font-weight: bold;display: inline-block;line-height: 1.2em;}#sk-container-id-2 div.sk-label-container {text-align: center;}#sk-container-id-2 div.sk-container {/* jupyter's `normalize.less` sets `[hidden] { display: none; }` but bootstrap.min.css set `[hidden] { display: none !important; }` so we also need the `!important` here to be able to override the default hidden behavior on the sphinx rendered scikit-learn.org. See: https://github.com/scikit-learn/scikit-learn/issues/21755 */display: inline-block !important;position: relative;}#sk-container-id-2 div.sk-text-repr-fallback {display: none;}</style><div id=\"sk-container-id-2\" class=\"sk-top-container\"><div class=\"sk-text-repr-fallback\"><pre>Pipeline(steps=[(&#x27;preprocessor&#x27;,\n",
       "                 ColumnTransformer(remainder=&#x27;passthrough&#x27;,\n",
       "                                   transformers=[(&#x27;Clean_Title&#x27;,\n",
       "                                                  CountVectorizer(),\n",
       "                                                  &#x27;Clean_Title&#x27;),\n",
       "                                                 (&#x27;Clean_Paragraph&#x27;,\n",
       "                                                  CountVectorizer(),\n",
       "                                                  &#x27;Clean_Paragraph&#x27;)])),\n",
       "                (&#x27;lr&#x27;, LogisticRegression())])</pre><b>In a Jupyter environment, please rerun this cell to show the HTML representation or trust the notebook. <br />On GitHub, the HTML representation is unable to render, please try loading this page with nbviewer.org.</b></div><div class=\"sk-container\" hidden><div class=\"sk-item sk-dashed-wrapped\"><div class=\"sk-label-container\"><div class=\"sk-label sk-toggleable\"><input class=\"sk-toggleable__control sk-hidden--visually\" id=\"sk-estimator-id-10\" type=\"checkbox\" ><label for=\"sk-estimator-id-10\" class=\"sk-toggleable__label sk-toggleable__label-arrow\">Pipeline</label><div class=\"sk-toggleable__content\"><pre>Pipeline(steps=[(&#x27;preprocessor&#x27;,\n",
       "                 ColumnTransformer(remainder=&#x27;passthrough&#x27;,\n",
       "                                   transformers=[(&#x27;Clean_Title&#x27;,\n",
       "                                                  CountVectorizer(),\n",
       "                                                  &#x27;Clean_Title&#x27;),\n",
       "                                                 (&#x27;Clean_Paragraph&#x27;,\n",
       "                                                  CountVectorizer(),\n",
       "                                                  &#x27;Clean_Paragraph&#x27;)])),\n",
       "                (&#x27;lr&#x27;, LogisticRegression())])</pre></div></div></div><div class=\"sk-serial\"><div class=\"sk-item sk-dashed-wrapped\"><div class=\"sk-label-container\"><div class=\"sk-label sk-toggleable\"><input class=\"sk-toggleable__control sk-hidden--visually\" id=\"sk-estimator-id-11\" type=\"checkbox\" ><label for=\"sk-estimator-id-11\" class=\"sk-toggleable__label sk-toggleable__label-arrow\">preprocessor: ColumnTransformer</label><div class=\"sk-toggleable__content\"><pre>ColumnTransformer(remainder=&#x27;passthrough&#x27;,\n",
       "                  transformers=[(&#x27;Clean_Title&#x27;, CountVectorizer(),\n",
       "                                 &#x27;Clean_Title&#x27;),\n",
       "                                (&#x27;Clean_Paragraph&#x27;, CountVectorizer(),\n",
       "                                 &#x27;Clean_Paragraph&#x27;)])</pre></div></div></div><div class=\"sk-parallel\"><div class=\"sk-parallel-item\"><div class=\"sk-item\"><div class=\"sk-label-container\"><div class=\"sk-label sk-toggleable\"><input class=\"sk-toggleable__control sk-hidden--visually\" id=\"sk-estimator-id-12\" type=\"checkbox\" ><label for=\"sk-estimator-id-12\" class=\"sk-toggleable__label sk-toggleable__label-arrow\">Clean_Title</label><div class=\"sk-toggleable__content\"><pre>Clean_Title</pre></div></div></div><div class=\"sk-serial\"><div class=\"sk-item\"><div class=\"sk-estimator sk-toggleable\"><input class=\"sk-toggleable__control sk-hidden--visually\" id=\"sk-estimator-id-13\" type=\"checkbox\" ><label for=\"sk-estimator-id-13\" class=\"sk-toggleable__label sk-toggleable__label-arrow\">CountVectorizer</label><div class=\"sk-toggleable__content\"><pre>CountVectorizer()</pre></div></div></div></div></div></div><div class=\"sk-parallel-item\"><div class=\"sk-item\"><div class=\"sk-label-container\"><div class=\"sk-label sk-toggleable\"><input class=\"sk-toggleable__control sk-hidden--visually\" id=\"sk-estimator-id-14\" type=\"checkbox\" ><label for=\"sk-estimator-id-14\" class=\"sk-toggleable__label sk-toggleable__label-arrow\">Clean_Paragraph</label><div class=\"sk-toggleable__content\"><pre>Clean_Paragraph</pre></div></div></div><div class=\"sk-serial\"><div class=\"sk-item\"><div class=\"sk-estimator sk-toggleable\"><input class=\"sk-toggleable__control sk-hidden--visually\" id=\"sk-estimator-id-15\" type=\"checkbox\" ><label for=\"sk-estimator-id-15\" class=\"sk-toggleable__label sk-toggleable__label-arrow\">CountVectorizer</label><div class=\"sk-toggleable__content\"><pre>CountVectorizer()</pre></div></div></div></div></div></div><div class=\"sk-parallel-item\"><div class=\"sk-item\"><div class=\"sk-label-container\"><div class=\"sk-label sk-toggleable\"><input class=\"sk-toggleable__control sk-hidden--visually\" id=\"sk-estimator-id-16\" type=\"checkbox\" ><label for=\"sk-estimator-id-16\" class=\"sk-toggleable__label sk-toggleable__label-arrow\">remainder</label><div class=\"sk-toggleable__content\"><pre>[]</pre></div></div></div><div class=\"sk-serial\"><div class=\"sk-item\"><div class=\"sk-estimator sk-toggleable\"><input class=\"sk-toggleable__control sk-hidden--visually\" id=\"sk-estimator-id-17\" type=\"checkbox\" ><label for=\"sk-estimator-id-17\" class=\"sk-toggleable__label sk-toggleable__label-arrow\">passthrough</label><div class=\"sk-toggleable__content\"><pre>passthrough</pre></div></div></div></div></div></div></div></div><div class=\"sk-item\"><div class=\"sk-estimator sk-toggleable\"><input class=\"sk-toggleable__control sk-hidden--visually\" id=\"sk-estimator-id-18\" type=\"checkbox\" ><label for=\"sk-estimator-id-18\" class=\"sk-toggleable__label sk-toggleable__label-arrow\">LogisticRegression</label><div class=\"sk-toggleable__content\"><pre>LogisticRegression()</pre></div></div></div></div></div></div></div>"
      ],
      "text/plain": [
       "Pipeline(steps=[('preprocessor',\n",
       "                 ColumnTransformer(remainder='passthrough',\n",
       "                                   transformers=[('Clean_Title',\n",
       "                                                  CountVectorizer(),\n",
       "                                                  'Clean_Title'),\n",
       "                                                 ('Clean_Paragraph',\n",
       "                                                  CountVectorizer(),\n",
       "                                                  'Clean_Paragraph')])),\n",
       "                ('lr', LogisticRegression())])"
      ]
     },
     "execution_count": 24,
     "metadata": {},
     "output_type": "execute_result"
    }
   ],
   "source": [
    "pipe_lr"
   ]
  },
  {
   "cell_type": "code",
   "execution_count": 25,
   "id": "28396371-5f5c-4a3b-b974-164e047764f3",
   "metadata": {},
   "outputs": [
    {
     "data": {
      "text/plain": [
       "0.7604790419161677"
      ]
     },
     "execution_count": 25,
     "metadata": {},
     "output_type": "execute_result"
    }
   ],
   "source": [
    "# Check Accuracy\n",
    "pipe_lr.score(x_test.astype(str),y_test.astype(str))"
   ]
  },
  {
   "cell_type": "code",
   "execution_count": 26,
   "id": "eb3a26b6-d09e-422f-991b-b08c48f55b75",
   "metadata": {},
   "outputs": [],
   "source": [
    "# Make A Prediction\n",
    "title = \"Finding Hope During Sad Days\" \n",
    "paragraph = \"Reading through self-help articles and looking for ways to cope with feelings of sadness and loneliness. I’m searching for advice on handling emotions, reading about stories of people who overcame difficult times, and finding comfort in knowing that there are ways to manage these feelings, even though it feels overwhelming right now\""
   ]
  },
  {
   "cell_type": "code",
   "execution_count": 27,
   "id": "89daee7b-bab9-4de2-9b0f-d9696a2a6ddf",
   "metadata": {},
   "outputs": [],
   "source": [
    "new_data = pd.DataFrame({ 'Clean_Title': [title], 'Clean_Paragraph': [paragraph] })"
   ]
  },
  {
   "cell_type": "code",
   "execution_count": 28,
   "id": "b08597d9-6f59-45cb-a648-95b0da1ce313",
   "metadata": {},
   "outputs": [
    {
     "data": {
      "text/plain": [
       "array(['Sad'], dtype=object)"
      ]
     },
     "execution_count": 28,
     "metadata": {},
     "output_type": "execute_result"
    }
   ],
   "source": [
    "pipe_lr.predict(new_data.astype(str))"
   ]
  },
  {
   "cell_type": "code",
   "execution_count": 29,
   "id": "5b3822ac-17fc-43dd-9bb7-8dad07a4d32c",
   "metadata": {},
   "outputs": [
    {
     "data": {
      "text/plain": [
       "array([[3.47966069e-02, 7.55633381e-04, 1.06262973e-02, 1.70027760e-03,\n",
       "        7.71024237e-03, 9.43219005e-01, 4.80641317e-04, 7.11295875e-04]])"
      ]
     },
     "execution_count": 29,
     "metadata": {},
     "output_type": "execute_result"
    }
   ],
   "source": [
    "# Prediction Prob\n",
    "pipe_lr.predict_proba(new_data.astype(str))"
   ]
  },
  {
   "cell_type": "code",
   "execution_count": 30,
   "id": "5b7c4596-d643-48e5-a777-79a6f55c49da",
   "metadata": {},
   "outputs": [
    {
     "data": {
      "text/plain": [
       "array(['Depressive', 'Fear', 'Happy', 'Manic', 'Neutral', 'Sad',\n",
       "       'Shocked', 'Surprised'], dtype=object)"
      ]
     },
     "execution_count": 30,
     "metadata": {},
     "output_type": "execute_result"
    }
   ],
   "source": [
    "# To Know the classes\n",
    "pipe_lr.classes_"
   ]
  },
  {
   "cell_type": "code",
   "execution_count": 31,
   "id": "c0d40f62-b1fd-4748-a279-c8f50c748f26",
   "metadata": {},
   "outputs": [],
   "source": [
    "# Save Model & Pipeline\n",
    "import joblib\n",
    "pipeline_file = open(\"emotion_classifier_logistic.pkl\",\"wb\")\n",
    "joblib.dump(pipe_lr,pipeline_file)\n",
    "pipeline_file.close()"
   ]
  },
  {
   "cell_type": "code",
   "execution_count": 32,
   "id": "377c4e98-67f0-45e5-8dd5-0417585754f0",
   "metadata": {},
   "outputs": [],
   "source": [
    "loaded_model = joblib.load(\"emotion_classifier_logistic.pkl\")"
   ]
  },
  {
   "cell_type": "code",
   "execution_count": 33,
   "id": "7f06744d-dff8-4740-bf34-0b39c31ca561",
   "metadata": {},
   "outputs": [],
   "source": [
    "new_data = pd.DataFrame({ 'Clean_Title': [title], 'Clean_Paragraph': [paragraph] })"
   ]
  },
  {
   "cell_type": "code",
   "execution_count": 34,
   "id": "c5071f91-4535-446f-9dfa-fb078d54a8ad",
   "metadata": {},
   "outputs": [
    {
     "data": {
      "text/plain": [
       "'Sad'"
      ]
     },
     "execution_count": 34,
     "metadata": {},
     "output_type": "execute_result"
    }
   ],
   "source": [
    "loaded_model.predict(new_data.astype(str))[0]"
   ]
  },
  {
   "cell_type": "code",
   "execution_count": null,
   "id": "da23a7c4-2685-45c4-a5d4-3870ee4ca15c",
   "metadata": {},
   "outputs": [],
   "source": []
  }
 ],
 "metadata": {
  "kernelspec": {
   "display_name": "Python 3 (ipykernel)",
   "language": "python",
   "name": "python3"
  },
  "language_info": {
   "codemirror_mode": {
    "name": "ipython",
    "version": 3
   },
   "file_extension": ".py",
   "mimetype": "text/x-python",
   "name": "python",
   "nbconvert_exporter": "python",
   "pygments_lexer": "ipython3",
   "version": "3.9.16"
  }
 },
 "nbformat": 4,
 "nbformat_minor": 5
}
